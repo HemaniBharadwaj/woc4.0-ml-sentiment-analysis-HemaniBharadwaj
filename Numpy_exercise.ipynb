{
  "nbformat": 4,
  "nbformat_minor": 0,
  "metadata": {
    "colab": {
      "name": "NumPy exercises",
      "provenance": [],
      "collapsed_sections": []
    },
    "kernelspec": {
      "display_name": "Python 3",
      "name": "python3"
    }
  },
  "cells": [
    {
      "cell_type": "code",
      "metadata": {
        "id": "EnhORJMC5NHc"
      },
      "source": [
        "import numpy as np"
      ],
      "execution_count": null,
      "outputs": []
    },
    {
      "cell_type": "markdown",
      "metadata": {
        "id": "dp92tsiV49wM"
      },
      "source": [
        "# Part 1: Creating ndarrays"
      ]
    },
    {
      "cell_type": "markdown",
      "metadata": {
        "id": "kI-sYE8f5L4P"
      },
      "source": [
        "1. Convert the below given list of strings to an int32 NumPy array"
      ]
    },
    {
      "cell_type": "code",
      "metadata": {
        "id": "E_nNMLpu5PE2"
      },
      "source": [
        "slist = ['2.5', '1.25', '0.024','2.999','1024.5']"
      ],
      "execution_count": 5,
      "outputs": []
    },
    {
      "cell_type": "code",
      "metadata": {
        "id": "guqHmLhqWxzJ",
        "outputId": "023e6db3-2f81-4596-f242-a14e0c824f9d",
        "colab": {
          "base_uri": "https://localhost:8080/"
        }
      },
      "source": [
        "import numpy as np\n",
        "slist = np.array(slist).astype(float).astype('int32')\n",
        "slist"
      ],
      "execution_count": 6,
      "outputs": [
        {
          "output_type": "execute_result",
          "data": {
            "text/plain": [
              "array([   2,    1,    0,    2, 1024], dtype=int32)"
            ]
          },
          "metadata": {},
          "execution_count": 6
        }
      ]
    },
    {
      "cell_type": "markdown",
      "metadata": {
        "id": "6uPLqLMu5Wo0"
      },
      "source": [
        "2. Create an empty 5x5 NumPy matrix"
      ]
    },
    {
      "cell_type": "code",
      "metadata": {
        "id": "cxRRTaVWWvqn",
        "outputId": "78bd468d-8550-4701-c65e-735e13ed39b7",
        "colab": {
          "base_uri": "https://localhost:8080/"
        }
      },
      "source": [
        "s = np.empty((5,5))\n",
        "s"
      ],
      "execution_count": 7,
      "outputs": [
        {
          "output_type": "execute_result",
          "data": {
            "text/plain": [
              "array([[4.67893734e-310, 0.00000000e+000, 0.00000000e+000,\n",
              "        0.00000000e+000, 0.00000000e+000],\n",
              "       [0.00000000e+000, 0.00000000e+000, 0.00000000e+000,\n",
              "        0.00000000e+000, 0.00000000e+000],\n",
              "       [0.00000000e+000, 0.00000000e+000, 0.00000000e+000,\n",
              "        0.00000000e+000, 0.00000000e+000],\n",
              "       [0.00000000e+000, 0.00000000e+000, 0.00000000e+000,\n",
              "        0.00000000e+000, 0.00000000e+000],\n",
              "       [0.00000000e+000, 0.00000000e+000, 0.00000000e+000,\n",
              "        0.00000000e+000, 0.00000000e+000]])"
            ]
          },
          "metadata": {},
          "execution_count": 7
        }
      ]
    },
    {
      "cell_type": "markdown",
      "metadata": {
        "id": "AOdcEdnA5f3B"
      },
      "source": [
        "# Part 2: Operations between Arrays and Scalars"
      ]
    },
    {
      "cell_type": "markdown",
      "metadata": {
        "id": "tKvPKAct5lT_"
      },
      "source": [
        "3. Create a 1x7 Numpy array whose elements consist of a geometric progression with a = 1 & r = 3, terms are arranged indexwise, for ex"
      ]
    },
    {
      "cell_type": "code",
      "metadata": {
        "id": "m8hVg-mV5mAn"
      },
      "source": [
        "sample_output = [1,3,9,27,81]"
      ],
      "execution_count": null,
      "outputs": []
    },
    {
      "cell_type": "code",
      "metadata": {
        "id": "yRh4_XudW7YR",
        "outputId": "adbf9f5e-7425-4e85-d7f8-203a6a430707",
        "colab": {
          "base_uri": "https://localhost:8080/"
        }
      },
      "source": [
        "s = np.geomspace(1,81,num=5,dtype='int')\n",
        "s"
      ],
      "execution_count": 12,
      "outputs": [
        {
          "output_type": "execute_result",
          "data": {
            "text/plain": [
              "array([ 1,  3,  9, 27, 81])"
            ]
          },
          "metadata": {},
          "execution_count": 12
        }
      ]
    },
    {
      "cell_type": "markdown",
      "metadata": {
        "id": "olRCl-v8_JR9"
      },
      "source": [
        "4. Transform each of the element of the below matrix according to the below equation\n",
        "\n",
        "    if x is an elements in input matrix, output matrix should have \n",
        "$1/(x^2 + 1)$ in its place\n",
        "\n"
      ]
    },
    {
      "cell_type": "code",
      "metadata": {
        "id": "7ZZoyVXZAq9G"
      },
      "source": [
        "mat = [[1,2,3],[4,5,6]]"
      ],
      "execution_count": 15,
      "outputs": []
    },
    {
      "cell_type": "code",
      "metadata": {
        "id": "qc_muADhXCFh",
        "outputId": "576ee041-61d6-4655-e6e5-f0287a0271fc",
        "colab": {
          "base_uri": "https://localhost:8080/"
        }
      },
      "source": [
        "m = np.array(mat)\n",
        "mat = (m*m)+ 1\n",
        "mat = 1/mat\n",
        "mat"
      ],
      "execution_count": 16,
      "outputs": [
        {
          "output_type": "execute_result",
          "data": {
            "text/plain": [
              "array([[0.5       , 0.2       , 0.1       ],\n",
              "       [0.05882353, 0.03846154, 0.02702703]])"
            ]
          },
          "metadata": {},
          "execution_count": 16
        }
      ]
    },
    {
      "cell_type": "markdown",
      "metadata": {
        "id": "SMuOfjq7DCkH"
      },
      "source": [
        "# Part 3: Basic Indexing and Slicing"
      ]
    },
    {
      "cell_type": "markdown",
      "metadata": {
        "id": "dxqj_uPbEOik"
      },
      "source": [
        "5. Make a 5x5 NumPy array of all zeros and use indexing and broadcasting to modify it such that all the elements not on the border are 1, for example"
      ]
    },
    {
      "cell_type": "code",
      "metadata": {
        "colab": {
          "base_uri": "https://localhost:8080/"
        },
        "id": "5Le5dW3IEh6_",
        "outputId": "35fa378b-b170-4388-8ab7-757c4da750ab"
      },
      "source": [
        "output_sample = np.array([[0,0,0,0,0],[0,1,1,1,0],[0,1,1,1,0],[0,1,1,1,0],[0,0,0,0,0]])\n",
        "output_sample"
      ],
      "execution_count": null,
      "outputs": [
        {
          "output_type": "execute_result",
          "data": {
            "text/plain": [
              "array([[0, 0, 0, 0, 0],\n",
              "       [0, 1, 1, 1, 0],\n",
              "       [0, 1, 1, 1, 0],\n",
              "       [0, 1, 1, 1, 0],\n",
              "       [0, 0, 0, 0, 0]])"
            ]
          },
          "metadata": {
            "tags": []
          },
          "execution_count": 48
        }
      ]
    },
    {
      "cell_type": "code",
      "metadata": {
        "id": "A7jJSywYXIvr",
        "outputId": "a5e6bf73-9fae-40e1-ba4b-0046e14796ce",
        "colab": {
          "base_uri": "https://localhost:8080/"
        }
      },
      "source": [
        "m = np.zeros((5,5))\n",
        "m[1:-1,1:-1]=1\n",
        "m\n",
        "\n"
      ],
      "execution_count": 20,
      "outputs": [
        {
          "output_type": "execute_result",
          "data": {
            "text/plain": [
              "array([[0., 0., 0., 0., 0.],\n",
              "       [0., 1., 1., 1., 0.],\n",
              "       [0., 1., 1., 1., 0.],\n",
              "       [0., 1., 1., 1., 0.],\n",
              "       [0., 0., 0., 0., 0.]])"
            ]
          },
          "metadata": {},
          "execution_count": 20
        }
      ]
    },
    {
      "cell_type": "markdown",
      "metadata": {
        "id": "K0hJTUXkFdfA"
      },
      "source": [
        "6. Given the 3x3x3, 3-dimensional NumPy array"
      ]
    },
    {
      "cell_type": "code",
      "metadata": {
        "colab": {
          "base_uri": "https://localhost:8080/"
        },
        "id": "POO1yEFNGQnT",
        "outputId": "5f490422-02d1-487b-ae3c-661c20675146"
      },
      "source": [
        "arr = np.arange(27).reshape((3,3,3))\n",
        "arr"
      ],
      "execution_count": null,
      "outputs": [
        {
          "output_type": "execute_result",
          "data": {
            "text/plain": [
              "array([[[ 0,  1,  2],\n",
              "        [ 3,  4,  5],\n",
              "        [ 6,  7,  8]],\n",
              "\n",
              "       [[ 9, 10, 11],\n",
              "        [12, 13, 14],\n",
              "        [15, 16, 17]],\n",
              "\n",
              "       [[18, 19, 20],\n",
              "        [21, 22, 23],\n",
              "        [24, 25, 26]]])"
            ]
          },
          "metadata": {
            "tags": []
          },
          "execution_count": 6
        }
      ]
    },
    {
      "cell_type": "markdown",
      "metadata": {
        "id": "J0VtaaOtG2dH"
      },
      "source": [
        "i. Slice this matrix to contain only second and third rows, first and second columns of the given matrix."
      ]
    },
    {
      "cell_type": "code",
      "source": [
        "sample_output = np.array([[[3,4],[6,7]],[[12,13],[15,16]],[[21,22],[24,25]]])\n",
        "sample_output"
      ],
      "metadata": {
        "colab": {
          "base_uri": "https://localhost:8080/"
        },
        "id": "0NnEUUN-gOB5",
        "outputId": "0e815cea-28b2-4a2a-bd55-9d94ee8c30ef"
      },
      "execution_count": null,
      "outputs": [
        {
          "output_type": "execute_result",
          "data": {
            "text/plain": [
              "array([[[ 3,  4],\n",
              "        [ 6,  7]],\n",
              "\n",
              "       [[12, 13],\n",
              "        [15, 16]],\n",
              "\n",
              "       [[21, 22],\n",
              "        [24, 25]]])"
            ]
          },
          "metadata": {},
          "execution_count": 3
        }
      ]
    },
    {
      "cell_type": "code",
      "metadata": {
        "id": "TvzAXsUDXNA7",
        "outputId": "a926090c-0187-4821-f937-17af4e07fad9",
        "colab": {
          "base_uri": "https://localhost:8080/"
        }
      },
      "source": [
        "m = np.arange(27).reshape(3,3,3)\n",
        "s = m[:,1:,0:2]\n",
        "s"
      ],
      "execution_count": 32,
      "outputs": [
        {
          "output_type": "execute_result",
          "data": {
            "text/plain": [
              "array([[[ 3,  4],\n",
              "        [ 6,  7]],\n",
              "\n",
              "       [[12, 13],\n",
              "        [15, 16]],\n",
              "\n",
              "       [[21, 22],\n",
              "        [24, 25]]])"
            ]
          },
          "metadata": {},
          "execution_count": 32
        }
      ]
    },
    {
      "cell_type": "markdown",
      "metadata": {
        "id": "NBGc_zTdHxWD"
      },
      "source": [
        "ii. Output a two dimensional matrix as shown below"
      ]
    },
    {
      "cell_type": "code",
      "metadata": {
        "colab": {
          "base_uri": "https://localhost:8080/"
        },
        "id": "Y2WOfAhGH-O7",
        "outputId": "0e340a6d-285e-436f-ee02-e5f3a02c2e68"
      },
      "source": [
        "sample_output = np.array([[0,3,6],[9,12,15],[18,21,14]])\n",
        "sample_output"
      ],
      "execution_count": null,
      "outputs": [
        {
          "output_type": "execute_result",
          "data": {
            "text/plain": [
              "array([[ 0,  3,  6],\n",
              "       [ 9, 12, 15],\n",
              "       [18, 21, 14]])"
            ]
          },
          "metadata": {
            "tags": []
          },
          "execution_count": 54
        }
      ]
    },
    {
      "cell_type": "code",
      "metadata": {
        "id": "4PmA4j3cXVfe",
        "outputId": "670165fd-a377-4823-c7c5-8571dcf3ad74",
        "colab": {
          "base_uri": "https://localhost:8080/"
        }
      },
      "source": [
        "#np.transpose(m)\n",
        "s=(m[:,:,0:1]).reshape(3,3)\n",
        "print(s)\n",
        "# np.transpose(s).reshape(3,3)\n",
        "\n"
      ],
      "execution_count": 52,
      "outputs": [
        {
          "output_type": "stream",
          "name": "stdout",
          "text": [
            "[[ 0  3  6]\n",
            " [ 9 12 15]\n",
            " [18 21 24]]\n"
          ]
        },
        {
          "output_type": "execute_result",
          "data": {
            "text/plain": [
              "array([[ 0,  9, 18],\n",
              "       [ 3, 12, 21],\n",
              "       [ 6, 15, 24]])"
            ]
          },
          "metadata": {},
          "execution_count": 52
        }
      ]
    },
    {
      "cell_type": "markdown",
      "metadata": {
        "id": "ARJHpbXiIe5p"
      },
      "source": [
        "# Part 4: Boolean Indexing"
      ]
    },
    {
      "cell_type": "markdown",
      "metadata": {
        "id": "evJTyDSOIpcT"
      },
      "source": [
        "7. Given the following array, modify it such that even values stay the same and output contains 0s instead of odd values"
      ]
    },
    {
      "cell_type": "code",
      "metadata": {
        "colab": {
          "base_uri": "https://localhost:8080/"
        },
        "id": "aCzMmII5I3OV",
        "outputId": "ff42f0c2-1e59-4448-b134-c60133c4fb30"
      },
      "source": [
        "arr = np.arange(9).reshape((3,3))\n",
        "arr"
      ],
      "execution_count": 54,
      "outputs": [
        {
          "output_type": "execute_result",
          "data": {
            "text/plain": [
              "array([[0, 1, 2],\n",
              "       [3, 4, 5],\n",
              "       [6, 7, 8]])"
            ]
          },
          "metadata": {},
          "execution_count": 54
        }
      ]
    },
    {
      "cell_type": "code",
      "metadata": {
        "colab": {
          "base_uri": "https://localhost:8080/"
        },
        "id": "cUYDN-utI631",
        "outputId": "402adc9d-6447-4efd-defe-55819d9399e4"
      },
      "source": [
        "sample_output = np.array([[0,0,2],[0,4,0],[6,0,8]])\n",
        "sample_output"
      ],
      "execution_count": null,
      "outputs": [
        {
          "output_type": "execute_result",
          "data": {
            "text/plain": [
              "array([[0, 0, 2],\n",
              "       [0, 4, 0],\n",
              "       [6, 0, 8]])"
            ]
          },
          "metadata": {
            "tags": []
          },
          "execution_count": 77
        }
      ]
    },
    {
      "cell_type": "code",
      "metadata": {
        "id": "h2Z4fsdMXanz",
        "outputId": "8e58b6eb-43dc-490b-c801-9b8240574650",
        "colab": {
          "base_uri": "https://localhost:8080/"
        }
      },
      "source": [
        "np.where(arr % 2 != 0 ,0,arr)"
      ],
      "execution_count": 56,
      "outputs": [
        {
          "output_type": "execute_result",
          "data": {
            "text/plain": [
              "array([[0, 0, 2],\n",
              "       [0, 4, 0],\n",
              "       [6, 0, 8]])"
            ]
          },
          "metadata": {},
          "execution_count": 56
        }
      ]
    },
    {
      "cell_type": "markdown",
      "metadata": {
        "id": "ldtjYhuINJTS"
      },
      "source": [
        "# Part 5: Fancy Indexing"
      ]
    },
    {
      "cell_type": "markdown",
      "metadata": {
        "id": "MuId5CADOEil"
      },
      "source": [
        "8. For the given matrix, use fancy indexing to output a 2d matrix consisting all the even elements of the given matrix"
      ]
    },
    {
      "cell_type": "code",
      "metadata": {
        "colab": {
          "base_uri": "https://localhost:8080/"
        },
        "id": "OTq0propOlxk",
        "outputId": "53603f2d-b63b-4e67-dab7-37df2db14888"
      },
      "source": [
        "arr = np.arange(32).reshape((8, 4))\n",
        "arr"
      ],
      "execution_count": 57,
      "outputs": [
        {
          "output_type": "execute_result",
          "data": {
            "text/plain": [
              "array([[ 0,  1,  2,  3],\n",
              "       [ 4,  5,  6,  7],\n",
              "       [ 8,  9, 10, 11],\n",
              "       [12, 13, 14, 15],\n",
              "       [16, 17, 18, 19],\n",
              "       [20, 21, 22, 23],\n",
              "       [24, 25, 26, 27],\n",
              "       [28, 29, 30, 31]])"
            ]
          },
          "metadata": {},
          "execution_count": 57
        }
      ]
    },
    {
      "cell_type": "code",
      "metadata": {
        "colab": {
          "base_uri": "https://localhost:8080/"
        },
        "id": "ghhE7MRVOrqX",
        "outputId": "fb289a86-ccfd-4f6c-a386-cfd20e97f6c9"
      },
      "source": [
        "sample_output = np.array([[ 0,  2],\n",
        "       [ 4,  6],\n",
        "       [ 8, 10],\n",
        "       [12, 14],\n",
        "       [16, 18],\n",
        "       [20, 22],\n",
        "       [24, 26],\n",
        "       [28, 30]])\n",
        "sample_output"
      ],
      "execution_count": null,
      "outputs": [
        {
          "output_type": "execute_result",
          "data": {
            "text/plain": [
              "array([[ 0,  2],\n",
              "       [ 4,  6],\n",
              "       [ 8, 10],\n",
              "       [12, 14],\n",
              "       [16, 18],\n",
              "       [20, 22],\n",
              "       [24, 26],\n",
              "       [28, 30]])"
            ]
          },
          "metadata": {
            "tags": []
          },
          "execution_count": 90
        }
      ]
    },
    {
      "cell_type": "code",
      "metadata": {
        "id": "HOPNWQLRXhqI",
        "outputId": "1946e61c-9ba5-4526-8392-b8a66ddb8e83",
        "colab": {
          "base_uri": "https://localhost:8080/"
        }
      },
      "source": [
        "arr[:,[2*k for k in range(arr.shape[1]//2)] ]"
      ],
      "execution_count": 60,
      "outputs": [
        {
          "output_type": "execute_result",
          "data": {
            "text/plain": [
              "array([[ 0,  2],\n",
              "       [ 4,  6],\n",
              "       [ 8, 10],\n",
              "       [12, 14],\n",
              "       [16, 18],\n",
              "       [20, 22],\n",
              "       [24, 26],\n",
              "       [28, 30]])"
            ]
          },
          "metadata": {},
          "execution_count": 60
        }
      ]
    },
    {
      "cell_type": "markdown",
      "metadata": {
        "id": "xj5lX_02SOa5"
      },
      "source": [
        "# Part 6: Expressing Conditional Logic as Array Operations\n",
        "\n"
      ]
    },
    {
      "cell_type": "markdown",
      "metadata": {
        "id": "BeZCKBFmScZW"
      },
      "source": [
        "Given two following matrices, use conditional logic to replace all the odd elements of matrix A with even elements of matrix B"
      ]
    },
    {
      "cell_type": "code",
      "metadata": {
        "colab": {
          "base_uri": "https://localhost:8080/"
        },
        "id": "amG797QGShmQ",
        "outputId": "93957b2d-b85a-4af2-8efe-f2907a5a0111"
      },
      "source": [
        "A = np.arange(9).reshape((3,3))\n",
        "B = np.arange(1,10).reshape((3,3))\n",
        "print(A)\n",
        "print(B)"
      ],
      "execution_count": 61,
      "outputs": [
        {
          "output_type": "stream",
          "name": "stdout",
          "text": [
            "[[0 1 2]\n",
            " [3 4 5]\n",
            " [6 7 8]]\n",
            "[[1 2 3]\n",
            " [4 5 6]\n",
            " [7 8 9]]\n"
          ]
        }
      ]
    },
    {
      "cell_type": "code",
      "metadata": {
        "colab": {
          "base_uri": "https://localhost:8080/"
        },
        "id": "LvvT-mkFS9Fo",
        "outputId": "91db18ec-9a91-4660-d531-4414af6fc165"
      },
      "source": [
        "sample_output = np.array([[0, 2, 2],\n",
        "       [4, 4, 6],\n",
        "       [6, 8, 8]])\n",
        "sample_output"
      ],
      "execution_count": null,
      "outputs": [
        {
          "output_type": "execute_result",
          "data": {
            "text/plain": [
              "array([[0, 2, 2],\n",
              "       [4, 4, 6],\n",
              "       [6, 8, 8]])"
            ]
          },
          "metadata": {
            "tags": []
          },
          "execution_count": 95
        }
      ]
    },
    {
      "cell_type": "code",
      "metadata": {
        "id": "NFsduXBoXncx",
        "outputId": "58bd3e55-0761-4d5b-d3ba-58eae3c49e95",
        "colab": {
          "base_uri": "https://localhost:8080/"
        }
      },
      "source": [
        "np.where(A % 2 != 0 , B , A)"
      ],
      "execution_count": 62,
      "outputs": [
        {
          "output_type": "execute_result",
          "data": {
            "text/plain": [
              "array([[0, 2, 2],\n",
              "       [4, 4, 6],\n",
              "       [6, 8, 8]])"
            ]
          },
          "metadata": {},
          "execution_count": 62
        }
      ]
    },
    {
      "cell_type": "markdown",
      "metadata": {
        "id": "11T_pvkoUrIb"
      },
      "source": [
        "# Part 7: Linear Algebra"
      ]
    },
    {
      "cell_type": "markdown",
      "metadata": {
        "id": "z44KXIq9Uu8E"
      },
      "source": [
        "Given the following system of equations, solve for x and y using either `numpy.linalg.solve(m1,m2)` or using `inv` and `dot`\n",
        "\n",
        "2x + 5y = 20\n",
        "\n",
        "3x + 6y = 12"
      ]
    },
    {
      "cell_type": "code",
      "metadata": {
        "id": "XVppUEYjp-7a",
        "outputId": "7bd12ed3-4754-4ec1-eb00-2aa963290457",
        "colab": {
          "base_uri": "https://localhost:8080/"
        }
      },
      "source": [
        "a=np.array([[2,5],[3,6]])\n",
        "b=np.array([[20],[12]])\n",
        "x = np.linalg.pinv(a)@b\n",
        "x"
      ],
      "execution_count": 66,
      "outputs": [
        {
          "output_type": "execute_result",
          "data": {
            "text/plain": [
              "array([[-20.],\n",
              "       [ 12.]])"
            ]
          },
          "metadata": {},
          "execution_count": 66
        }
      ]
    },
    {
      "cell_type": "code",
      "source": [
        ""
      ],
      "metadata": {
        "id": "FcDQ3fMi1DNH"
      },
      "execution_count": null,
      "outputs": []
    }
  ]
}