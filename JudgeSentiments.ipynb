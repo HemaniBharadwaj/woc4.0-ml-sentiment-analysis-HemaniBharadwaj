{
  "nbformat": 4,
  "nbformat_minor": 0,
  "metadata": {
    "colab": {
      "name": "JudgeSentiments.ipynb",
      "provenance": []
    },
    "kernelspec": {
      "name": "python3",
      "display_name": "Python 3"
    },
    "language_info": {
      "name": "python"
    }
  },
  "cells": [
    {
      "cell_type": "code",
      "source": [
        "!pip install sklearn"
      ],
      "metadata": {
        "colab": {
          "base_uri": "https://localhost:8080/"
        },
        "id": "muXftkVr6L3K",
        "outputId": "03f1844d-82e2-4f13-80ad-14d3d1ab987f"
      },
      "execution_count": 245,
      "outputs": [
        {
          "output_type": "stream",
          "name": "stdout",
          "text": [
            "Requirement already satisfied: sklearn in /usr/local/lib/python3.7/dist-packages (0.0)\n",
            "Requirement already satisfied: scikit-learn in /usr/local/lib/python3.7/dist-packages (from sklearn) (1.0.2)\n",
            "Requirement already satisfied: numpy>=1.14.6 in /usr/local/lib/python3.7/dist-packages (from scikit-learn->sklearn) (1.19.5)\n",
            "Requirement already satisfied: scipy>=1.1.0 in /usr/local/lib/python3.7/dist-packages (from scikit-learn->sklearn) (1.4.1)\n",
            "Requirement already satisfied: joblib>=0.11 in /usr/local/lib/python3.7/dist-packages (from scikit-learn->sklearn) (1.1.0)\n",
            "Requirement already satisfied: threadpoolctl>=2.0.0 in /usr/local/lib/python3.7/dist-packages (from scikit-learn->sklearn) (3.0.0)\n"
          ]
        }
      ]
    },
    {
      "cell_type": "code",
      "source": [
        "import pandas as pd\n",
        "import numpy as np\n",
        "import nltk\n",
        "nltk.download('punkt')\n",
        "from nltk.corpus import stopwords\n",
        "nltk.download('stopwords')\n",
        "nltk.download('wordnet')\n",
        "import re\n",
        "from nltk.stem import PorterStemmer\n",
        "from sklearn.feature_extraction.text import TfidfVectorizer\n",
        "from sklearn.model_selection import train_test_split\n",
        "from sklearn.metrics import confusion_matrix, classification_report\n",
        "from sklearn.svm import LinearSVC\n",
        "from sklearn.naive_bayes import BernoulliNB\n",
        "from sklearn.linear_model import LogisticRegression"
      ],
      "metadata": {
        "id": "sG1Mvtb4EK6k",
        "colab": {
          "base_uri": "https://localhost:8080/"
        },
        "outputId": "c0aa83ad-9b53-4864-a34e-a7387cf39a3a"
      },
      "execution_count": 246,
      "outputs": [
        {
          "output_type": "stream",
          "name": "stdout",
          "text": [
            "[nltk_data] Downloading package punkt to /root/nltk_data...\n",
            "[nltk_data]   Package punkt is already up-to-date!\n",
            "[nltk_data] Downloading package stopwords to /root/nltk_data...\n",
            "[nltk_data]   Package stopwords is already up-to-date!\n",
            "[nltk_data] Downloading package wordnet to /root/nltk_data...\n",
            "[nltk_data]   Package wordnet is already up-to-date!\n"
          ]
        }
      ]
    },
    {
      "cell_type": "code",
      "execution_count": 247,
      "metadata": {
        "id": "-sk1UBydDP74"
      },
      "outputs": [],
      "source": [
        "DATASET_COLUMNS=['tweet_text','emotion_in_tweet_is_directed_at','is_there_an_emotion_directed_at_a_brand_or_product']\n",
        "DATASET_ENCODING = \"ISO-8859-1\"\n",
        "df=pd.read_csv('/content/judge-1377884607_tweet_product_company.csv',encoding=DATASET_ENCODING)"
      ]
    },
    {
      "cell_type": "code",
      "source": [
        "df.head()"
      ],
      "metadata": {
        "id": "slxPib2tEUOR",
        "colab": {
          "base_uri": "https://localhost:8080/",
          "height": 333
        },
        "outputId": "5513b322-b60b-402d-eac5-2a4510e4174e"
      },
      "execution_count": 248,
      "outputs": [
        {
          "output_type": "execute_result",
          "data": {
            "text/html": [
              "\n",
              "  <div id=\"df-398ad38d-8f87-4509-ade6-8934ddeffbc3\">\n",
              "    <div class=\"colab-df-container\">\n",
              "      <div>\n",
              "<style scoped>\n",
              "    .dataframe tbody tr th:only-of-type {\n",
              "        vertical-align: middle;\n",
              "    }\n",
              "\n",
              "    .dataframe tbody tr th {\n",
              "        vertical-align: top;\n",
              "    }\n",
              "\n",
              "    .dataframe thead th {\n",
              "        text-align: right;\n",
              "    }\n",
              "</style>\n",
              "<table border=\"1\" class=\"dataframe\">\n",
              "  <thead>\n",
              "    <tr style=\"text-align: right;\">\n",
              "      <th></th>\n",
              "      <th>tweet_text</th>\n",
              "      <th>emotion_in_tweet_is_directed_at</th>\n",
              "      <th>is_there_an_emotion_directed_at_a_brand_or_product</th>\n",
              "    </tr>\n",
              "  </thead>\n",
              "  <tbody>\n",
              "    <tr>\n",
              "      <th>0</th>\n",
              "      <td>.@wesley83 I have a 3G iPhone. After 3 hrs twe...</td>\n",
              "      <td>iPhone</td>\n",
              "      <td>Negative emotion</td>\n",
              "    </tr>\n",
              "    <tr>\n",
              "      <th>1</th>\n",
              "      <td>@jessedee Know about @fludapp ? Awesome iPad/i...</td>\n",
              "      <td>iPad or iPhone App</td>\n",
              "      <td>Positive emotion</td>\n",
              "    </tr>\n",
              "    <tr>\n",
              "      <th>2</th>\n",
              "      <td>@swonderlin Can not wait for #iPad 2 also. The...</td>\n",
              "      <td>iPad</td>\n",
              "      <td>Positive emotion</td>\n",
              "    </tr>\n",
              "    <tr>\n",
              "      <th>3</th>\n",
              "      <td>@sxsw I hope this year's festival isn't as cra...</td>\n",
              "      <td>iPad or iPhone App</td>\n",
              "      <td>Negative emotion</td>\n",
              "    </tr>\n",
              "    <tr>\n",
              "      <th>4</th>\n",
              "      <td>@sxtxstate great stuff on Fri #SXSW: Marissa M...</td>\n",
              "      <td>Google</td>\n",
              "      <td>Positive emotion</td>\n",
              "    </tr>\n",
              "  </tbody>\n",
              "</table>\n",
              "</div>\n",
              "      <button class=\"colab-df-convert\" onclick=\"convertToInteractive('df-398ad38d-8f87-4509-ade6-8934ddeffbc3')\"\n",
              "              title=\"Convert this dataframe to an interactive table.\"\n",
              "              style=\"display:none;\">\n",
              "        \n",
              "  <svg xmlns=\"http://www.w3.org/2000/svg\" height=\"24px\"viewBox=\"0 0 24 24\"\n",
              "       width=\"24px\">\n",
              "    <path d=\"M0 0h24v24H0V0z\" fill=\"none\"/>\n",
              "    <path d=\"M18.56 5.44l.94 2.06.94-2.06 2.06-.94-2.06-.94-.94-2.06-.94 2.06-2.06.94zm-11 1L8.5 8.5l.94-2.06 2.06-.94-2.06-.94L8.5 2.5l-.94 2.06-2.06.94zm10 10l.94 2.06.94-2.06 2.06-.94-2.06-.94-.94-2.06-.94 2.06-2.06.94z\"/><path d=\"M17.41 7.96l-1.37-1.37c-.4-.4-.92-.59-1.43-.59-.52 0-1.04.2-1.43.59L10.3 9.45l-7.72 7.72c-.78.78-.78 2.05 0 2.83L4 21.41c.39.39.9.59 1.41.59.51 0 1.02-.2 1.41-.59l7.78-7.78 2.81-2.81c.8-.78.8-2.07 0-2.86zM5.41 20L4 18.59l7.72-7.72 1.47 1.35L5.41 20z\"/>\n",
              "  </svg>\n",
              "      </button>\n",
              "      \n",
              "  <style>\n",
              "    .colab-df-container {\n",
              "      display:flex;\n",
              "      flex-wrap:wrap;\n",
              "      gap: 12px;\n",
              "    }\n",
              "\n",
              "    .colab-df-convert {\n",
              "      background-color: #E8F0FE;\n",
              "      border: none;\n",
              "      border-radius: 50%;\n",
              "      cursor: pointer;\n",
              "      display: none;\n",
              "      fill: #1967D2;\n",
              "      height: 32px;\n",
              "      padding: 0 0 0 0;\n",
              "      width: 32px;\n",
              "    }\n",
              "\n",
              "    .colab-df-convert:hover {\n",
              "      background-color: #E2EBFA;\n",
              "      box-shadow: 0px 1px 2px rgba(60, 64, 67, 0.3), 0px 1px 3px 1px rgba(60, 64, 67, 0.15);\n",
              "      fill: #174EA6;\n",
              "    }\n",
              "\n",
              "    [theme=dark] .colab-df-convert {\n",
              "      background-color: #3B4455;\n",
              "      fill: #D2E3FC;\n",
              "    }\n",
              "\n",
              "    [theme=dark] .colab-df-convert:hover {\n",
              "      background-color: #434B5C;\n",
              "      box-shadow: 0px 1px 3px 1px rgba(0, 0, 0, 0.15);\n",
              "      filter: drop-shadow(0px 1px 2px rgba(0, 0, 0, 0.3));\n",
              "      fill: #FFFFFF;\n",
              "    }\n",
              "  </style>\n",
              "\n",
              "      <script>\n",
              "        const buttonEl =\n",
              "          document.querySelector('#df-398ad38d-8f87-4509-ade6-8934ddeffbc3 button.colab-df-convert');\n",
              "        buttonEl.style.display =\n",
              "          google.colab.kernel.accessAllowed ? 'block' : 'none';\n",
              "\n",
              "        async function convertToInteractive(key) {\n",
              "          const element = document.querySelector('#df-398ad38d-8f87-4509-ade6-8934ddeffbc3');\n",
              "          const dataTable =\n",
              "            await google.colab.kernel.invokeFunction('convertToInteractive',\n",
              "                                                     [key], {});\n",
              "          if (!dataTable) return;\n",
              "\n",
              "          const docLinkHtml = 'Like what you see? Visit the ' +\n",
              "            '<a target=\"_blank\" href=https://colab.research.google.com/notebooks/data_table.ipynb>data table notebook</a>'\n",
              "            + ' to learn more about interactive tables.';\n",
              "          element.innerHTML = '';\n",
              "          dataTable['output_type'] = 'display_data';\n",
              "          await google.colab.output.renderOutput(dataTable, element);\n",
              "          const docLink = document.createElement('div');\n",
              "          docLink.innerHTML = docLinkHtml;\n",
              "          element.appendChild(docLink);\n",
              "        }\n",
              "      </script>\n",
              "    </div>\n",
              "  </div>\n",
              "  "
            ],
            "text/plain": [
              "                                          tweet_text  ... is_there_an_emotion_directed_at_a_brand_or_product\n",
              "0  .@wesley83 I have a 3G iPhone. After 3 hrs twe...  ...                                   Negative emotion\n",
              "1  @jessedee Know about @fludapp ? Awesome iPad/i...  ...                                   Positive emotion\n",
              "2  @swonderlin Can not wait for #iPad 2 also. The...  ...                                   Positive emotion\n",
              "3  @sxsw I hope this year's festival isn't as cra...  ...                                   Negative emotion\n",
              "4  @sxtxstate great stuff on Fri #SXSW: Marissa M...  ...                                   Positive emotion\n",
              "\n",
              "[5 rows x 3 columns]"
            ]
          },
          "metadata": {},
          "execution_count": 248
        }
      ]
    },
    {
      "cell_type": "code",
      "source": [
        "df.columns"
      ],
      "metadata": {
        "colab": {
          "base_uri": "https://localhost:8080/"
        },
        "id": "SSETdLj3ejwe",
        "outputId": "fbad332e-39da-4da9-c715-685ad9646f31"
      },
      "execution_count": 249,
      "outputs": [
        {
          "output_type": "execute_result",
          "data": {
            "text/plain": [
              "Index(['tweet_text', 'emotion_in_tweet_is_directed_at',\n",
              "       'is_there_an_emotion_directed_at_a_brand_or_product'],\n",
              "      dtype='object')"
            ]
          },
          "metadata": {},
          "execution_count": 249
        }
      ]
    },
    {
      "cell_type": "code",
      "source": [
        "len(df)"
      ],
      "metadata": {
        "colab": {
          "base_uri": "https://localhost:8080/"
        },
        "id": "xpeeBlU2exHL",
        "outputId": "bd940e57-eb6c-4238-90b3-35b0cb5f2b72"
      },
      "execution_count": 250,
      "outputs": [
        {
          "output_type": "execute_result",
          "data": {
            "text/plain": [
              "9093"
            ]
          },
          "metadata": {},
          "execution_count": 250
        }
      ]
    },
    {
      "cell_type": "code",
      "source": [
        "df.info()"
      ],
      "metadata": {
        "colab": {
          "base_uri": "https://localhost:8080/"
        },
        "id": "0vlGnm09e4c7",
        "outputId": "5a20be7d-dfd6-4acb-a02c-04ce741d9b42"
      },
      "execution_count": 251,
      "outputs": [
        {
          "output_type": "stream",
          "name": "stdout",
          "text": [
            "<class 'pandas.core.frame.DataFrame'>\n",
            "RangeIndex: 9093 entries, 0 to 9092\n",
            "Data columns (total 3 columns):\n",
            " #   Column                                              Non-Null Count  Dtype \n",
            "---  ------                                              --------------  ----- \n",
            " 0   tweet_text                                          9092 non-null   object\n",
            " 1   emotion_in_tweet_is_directed_at                     3291 non-null   object\n",
            " 2   is_there_an_emotion_directed_at_a_brand_or_product  9093 non-null   object\n",
            "dtypes: object(3)\n",
            "memory usage: 213.2+ KB\n"
          ]
        }
      ]
    },
    {
      "cell_type": "code",
      "source": [
        "np.sum(df.isnull().any(axis=1))"
      ],
      "metadata": {
        "colab": {
          "base_uri": "https://localhost:8080/"
        },
        "id": "NsOUmIUPhkYn",
        "outputId": "28735b13-aef1-48b5-a647-365f13e37e58"
      },
      "execution_count": 252,
      "outputs": [
        {
          "output_type": "execute_result",
          "data": {
            "text/plain": [
              "5802"
            ]
          },
          "metadata": {},
          "execution_count": 252
        }
      ]
    },
    {
      "cell_type": "code",
      "source": [
        "np.sum(df.notnull().any(axis=1))"
      ],
      "metadata": {
        "colab": {
          "base_uri": "https://localhost:8080/"
        },
        "id": "rbZKTIyle9IW",
        "outputId": "e73d7add-896a-4594-9f00-6afe082caeeb"
      },
      "execution_count": 253,
      "outputs": [
        {
          "output_type": "execute_result",
          "data": {
            "text/plain": [
              "9093"
            ]
          },
          "metadata": {},
          "execution_count": 253
        }
      ]
    },
    {
      "cell_type": "code",
      "source": [
        "df[\"emotion_in_tweet_is_directed_at\"].fillna(\"No product\", inplace = True)"
      ],
      "metadata": {
        "id": "NRMxjjl7kT1a"
      },
      "execution_count": 254,
      "outputs": []
    },
    {
      "cell_type": "code",
      "source": [
        "np.sum(df[\"tweet_text\"].isnull())"
      ],
      "metadata": {
        "colab": {
          "base_uri": "https://localhost:8080/"
        },
        "id": "DABX6F7Mi9qt",
        "outputId": "ae34203a-d772-46d7-ccef-e9079919114f"
      },
      "execution_count": 255,
      "outputs": [
        {
          "output_type": "execute_result",
          "data": {
            "text/plain": [
              "1"
            ]
          },
          "metadata": {},
          "execution_count": 255
        }
      ]
    },
    {
      "cell_type": "code",
      "source": [
        "# for i in range(len(df)):\n",
        "#   if(df.loc[i,\"tweet_text\"].isnull()==True):\n",
        "#     print(i)\n",
        "#     break;\n",
        "df[df['tweet_text'].isnull()].index.tolist()"
      ],
      "metadata": {
        "colab": {
          "base_uri": "https://localhost:8080/"
        },
        "id": "KyFm9pLvkrGo",
        "outputId": "6e6bdf9a-bf34-4603-b74f-304ac280f871"
      },
      "execution_count": 256,
      "outputs": [
        {
          "output_type": "execute_result",
          "data": {
            "text/plain": [
              "[6]"
            ]
          },
          "metadata": {},
          "execution_count": 256
        }
      ]
    },
    {
      "cell_type": "code",
      "source": [
        "df=df.dropna()\n",
        "np.sum(df[\"tweet_text\"].isnull())"
      ],
      "metadata": {
        "id": "wXh-EjXnlsrq",
        "colab": {
          "base_uri": "https://localhost:8080/"
        },
        "outputId": "eaf9878f-b819-4f2e-a3f2-bc9dd1f55388"
      },
      "execution_count": 257,
      "outputs": [
        {
          "output_type": "execute_result",
          "data": {
            "text/plain": [
              "0"
            ]
          },
          "metadata": {},
          "execution_count": 257
        }
      ]
    },
    {
      "cell_type": "code",
      "source": [
        "np.sum(df.notnull())"
      ],
      "metadata": {
        "colab": {
          "base_uri": "https://localhost:8080/"
        },
        "id": "JTQdafzmrpUD",
        "outputId": "a7e4cf64-a1b8-493a-d05d-c25f877581bb"
      },
      "execution_count": 258,
      "outputs": [
        {
          "output_type": "execute_result",
          "data": {
            "text/plain": [
              "tweet_text                                            9092\n",
              "emotion_in_tweet_is_directed_at                       9092\n",
              "is_there_an_emotion_directed_at_a_brand_or_product    9092\n",
              "dtype: int64"
            ]
          },
          "metadata": {},
          "execution_count": 258
        }
      ]
    },
    {
      "cell_type": "code",
      "source": [
        "df[\"is_there_an_emotion_directed_at_a_brand_or_product\"].unique()"
      ],
      "metadata": {
        "colab": {
          "base_uri": "https://localhost:8080/"
        },
        "id": "TosCVfu2uppI",
        "outputId": "d2f188b1-8dcf-4ad4-f5be-3c6f7718336b"
      },
      "execution_count": 259,
      "outputs": [
        {
          "output_type": "execute_result",
          "data": {
            "text/plain": [
              "array(['Negative emotion', 'Positive emotion',\n",
              "       'No emotion toward brand or product', \"I can't tell\"], dtype=object)"
            ]
          },
          "metadata": {},
          "execution_count": 259
        }
      ]
    },
    {
      "cell_type": "code",
      "source": [
        "x=df.groupby('is_there_an_emotion_directed_at_a_brand_or_product').count().plot(kind='bar', title='Distribution of data',legend=False)\n",
        "# x.set_xticklabels(['Negative emotion', 'Positive emotion',\n",
        "#        'No emotion toward brand or product', \"I can't tell\"],rotation=0)\n",
        "#x"
      ],
      "metadata": {
        "colab": {
          "base_uri": "https://localhost:8080/",
          "height": 468
        },
        "id": "hm7EogEOsUDt",
        "outputId": "62a3a848-a4f9-4987-e51e-6e67d174a6d5"
      },
      "execution_count": 260,
      "outputs": [
        {
          "output_type": "display_data",
          "data": {
            "image/png": "[encoded data removed]",
            "text/plain": [
              "<Figure size 432x288 with 1 Axes>"
            ]
          },
          "metadata": {
            "needs_background": "light"
          }
        }
      ]
    },
    {
      "cell_type": "code",
      "source": [
        "text,sentiments = list(df[\"tweet_text\"]),list(df[\"is_there_an_emotion_directed_at_a_brand_or_product\"])"
      ],
      "metadata": {
        "id": "Vr8hkQzyt4Gt"
      },
      "execution_count": 261,
      "outputs": []
    },
    {
      "cell_type": "code",
      "source": [
        "import seaborn as sns\n",
        "sns.countplot(x='is_there_an_emotion_directed_at_a_brand_or_product', data=df)"
      ],
      "metadata": {
        "colab": {
          "base_uri": "https://localhost:8080/",
          "height": 297
        },
        "id": "CGjUjn_4vf-H",
        "outputId": "88a0ba77-9e3e-41c1-8f48-9154c2b345d1"
      },
      "execution_count": 262,
      "outputs": [
        {
          "output_type": "execute_result",
          "data": {
            "text/plain": [
              "<matplotlib.axes._subplots.AxesSubplot at 0x7f037c54ab10>"
            ]
          },
          "metadata": {},
          "execution_count": 262
        },
        {
          "output_type": "display_data",
          "data": {
            "image/png": "[encoded data removed]",
            "text/plain": [
              "<Figure size 432x288 with 1 Axes>"
            ]
          },
          "metadata": {
            "needs_background": "light"
          }
        }
      ]
    },
    {
      "cell_type": "code",
      "source": [
        "data=df[['tweet_text','is_there_an_emotion_directed_at_a_brand_or_product']]"
      ],
      "metadata": {
        "id": "izJZbpu6vzfJ"
      },
      "execution_count": 263,
      "outputs": []
    },
    {
      "cell_type": "code",
      "source": [
        "data=data.rename(columns={'tweet_text':'text','is_there_an_emotion_directed_at_a_brand_or_product':'sentiments'})"
      ],
      "metadata": {
        "id": "WMPuXUoLxcho"
      },
      "execution_count": 264,
      "outputs": []
    },
    {
      "cell_type": "code",
      "source": [
        "data['sentiments'].unique()"
      ],
      "metadata": {
        "colab": {
          "base_uri": "https://localhost:8080/"
        },
        "id": "zvek4VRp0dJ2",
        "outputId": "954225bd-a453-4a88-a5d5-c4e90880f1b5"
      },
      "execution_count": 265,
      "outputs": [
        {
          "output_type": "execute_result",
          "data": {
            "text/plain": [
              "array(['Negative emotion', 'Positive emotion',\n",
              "       'No emotion toward brand or product', \"I can't tell\"], dtype=object)"
            ]
          },
          "metadata": {},
          "execution_count": 265
        }
      ]
    },
    {
      "cell_type": "code",
      "source": [
        "data_pos=data[data['sentiments'] == 'Positive emotion']\n",
        "data_neg=data[data['sentiments'] == 'Negative emotion']\n",
        "data_neutral=data[data['sentiments'] == 'No emotion toward brand or product']\n",
        "data_dknow=data[data['sentiments'] == 'I can\\'t tell']"
      ],
      "metadata": {
        "id": "cov7PdbYxfhy"
      },
      "execution_count": 266,
      "outputs": []
    },
    {
      "cell_type": "code",
      "source": [
        "data['text']=data['text'].str.lower()\n",
        "data['text'].head(3)"
      ],
      "metadata": {
        "colab": {
          "base_uri": "https://localhost:8080/"
        },
        "id": "B_ElOYGs1VGs",
        "outputId": "79a758c8-ea0a-42da-f099-57c70a35c6e6"
      },
      "execution_count": 267,
      "outputs": [
        {
          "output_type": "execute_result",
          "data": {
            "text/plain": [
              "0    .@wesley83 i have a 3g iphone. after 3 hrs twe...\n",
              "1    @jessedee know about @fludapp ? awesome ipad/i...\n",
              "2    @swonderlin can not wait for #ipad 2 also. the...\n",
              "Name: text, dtype: object"
            ]
          },
          "metadata": {},
          "execution_count": 267
        }
      ]
    },
    {
      "cell_type": "code",
      "source": [
        "data.reset_index()\n",
        "data['text'].iloc[6]"
      ],
      "metadata": {
        "colab": {
          "base_uri": "https://localhost:8080/",
          "height": 52
        },
        "id": "nw2TXCMk5Sk_",
        "outputId": "f17d1192-5f60-4d5a-e238-44a645ab15e4"
      },
      "execution_count": 268,
      "outputs": [
        {
          "output_type": "execute_result",
          "data": {
            "application/vnd.google.colaboratory.intrinsic+json": {
              "type": "string"
            },
            "text/plain": [
              "'#sxsw is just starting, #ctia is around the corner and #googleio is only a hop skip and a jump from there, good time to be an #android fan'"
            ]
          },
          "metadata": {},
          "execution_count": 268
        }
      ]
    },
    {
      "cell_type": "code",
      "source": [
        "data['text'][0]"
      ],
      "metadata": {
        "colab": {
          "base_uri": "https://localhost:8080/",
          "height": 52
        },
        "id": "GRtT-rAc6Fbq",
        "outputId": "83d53898-4665-4e2b-cfd6-6287313a3f7e"
      },
      "execution_count": 269,
      "outputs": [
        {
          "output_type": "execute_result",
          "data": {
            "application/vnd.google.colaboratory.intrinsic+json": {
              "type": "string"
            },
            "text/plain": [
              "'.@wesley83 i have a 3g iphone. after 3 hrs tweeting at #rise_austin, it was dead!  i need to upgrade. plugin stations at #sxsw.'"
            ]
          },
          "metadata": {},
          "execution_count": 269
        }
      ]
    },
    {
      "cell_type": "code",
      "source": [
        "\n",
        "# for i in range(len(data['text'])):\n",
        "#   # for j in range(len(data['text'][i])):\n",
        "#     data.loc[i]['text']=data.loc[i]['text'].translate({ord(i): None for i in '!@#$%^&*()'})\n",
        "\n",
        "print(\"******************************\")\n",
        "for i in range(len(data['text'])):\n",
        "  s=data['text'].iloc[i]\n",
        "  s=s.translate({ord(x): None for x in '!@#$%^&*()'})\n",
        "  data['text'].iloc[i]=\"\".join(s)\n",
        "data['text'][0]\n",
        "   "
      ],
      "metadata": {
        "colab": {
          "base_uri": "https://localhost:8080/",
          "height": 69
        },
        "id": "D8WDlxWrv6za",
        "outputId": "87f84461-b475-4111-9ca7-a078c196554f"
      },
      "execution_count": 270,
      "outputs": [
        {
          "output_type": "stream",
          "name": "stdout",
          "text": [
            "******************************\n"
          ]
        },
        {
          "output_type": "execute_result",
          "data": {
            "application/vnd.google.colaboratory.intrinsic+json": {
              "type": "string"
            },
            "text/plain": [
              "'.wesley83 i have a 3g iphone. after 3 hrs tweeting at rise_austin, it was dead  i need to upgrade. plugin stations at sxsw.'"
            ]
          },
          "metadata": {},
          "execution_count": 270
        }
      ]
    },
    {
      "cell_type": "code",
      "source": [
        "\n",
        "for i in range(len(data['text'])):\n",
        "  data['text'].iloc[i] = re.sub(r\"http\\S+\", \" \",data['text'].iloc[i])\n",
        "  data['text'].iloc[i] = re.sub(\"[^a-zA-Z]+\", \" \",data['text'].iloc[i])\n",
        "  data['text'].iloc[i] = re.sub(\" +\", \" \",data['text'].iloc[i])"
      ],
      "metadata": {
        "id": "kU6ePw8ZtCqI"
      },
      "execution_count": 271,
      "outputs": []
    },
    {
      "cell_type": "code",
      "source": [
        "# import nltk\n",
        "# from nltk.tokenize import word_tokenize\n",
        "for i in range(len(data['text'])):\n",
        "  data['text'].iloc[i]=nltk.word_tokenize(data['text'].iloc[i])\n",
        "data['text'][279]"
      ],
      "metadata": {
        "colab": {
          "base_uri": "https://localhost:8080/"
        },
        "id": "_rDYBKLQrult",
        "outputId": "b8f1a0e1-7b2f-43d1-94ee-170171eeaf24"
      },
      "execution_count": 272,
      "outputs": [
        {
          "output_type": "execute_result",
          "data": {
            "text/plain": [
              "['technews',\n",
              " 'apple',\n",
              " 'opening',\n",
              " 'pop',\n",
              " 'up',\n",
              " 'store',\n",
              " 'in',\n",
              " 'austin',\n",
              " 'for',\n",
              " 'sxsw',\n",
              " 'geekfest',\n",
              " 'apple',\n",
              " 'link',\n",
              " 'tech',\n",
              " 'news',\n",
              " 'apple',\n",
              " 'brian',\n",
              " 'lam',\n",
              " 'ipad',\n",
              " 'sxsw',\n",
              " 'tech']"
            ]
          },
          "metadata": {},
          "execution_count": 272
        }
      ]
    },
    {
      "cell_type": "code",
      "source": [
        "stop = stopwords.words('english')\n",
        "print(stop)\n",
        "for i in range(len(data['text'])):\n",
        "  data['text'].iloc[i]= [w for w in data['text'].iloc[i] if w not in stop]"
      ],
      "metadata": {
        "id": "mnnp5azy2MT0",
        "colab": {
          "base_uri": "https://localhost:8080/"
        },
        "outputId": "d41d100e-3fad-4456-cb94-ef832463f253"
      },
      "execution_count": 273,
      "outputs": [
        {
          "output_type": "stream",
          "name": "stdout",
          "text": [
            "['i', 'me', 'my', 'myself', 'we', 'our', 'ours', 'ourselves', 'you', \"you're\", \"you've\", \"you'll\", \"you'd\", 'your', 'yours', 'yourself', 'yourselves', 'he', 'him', 'his', 'himself', 'she', \"she's\", 'her', 'hers', 'herself', 'it', \"it's\", 'its', 'itself', 'they', 'them', 'their', 'theirs', 'themselves', 'what', 'which', 'who', 'whom', 'this', 'that', \"that'll\", 'these', 'those', 'am', 'is', 'are', 'was', 'were', 'be', 'been', 'being', 'have', 'has', 'had', 'having', 'do', 'does', 'did', 'doing', 'a', 'an', 'the', 'and', 'but', 'if', 'or', 'because', 'as', 'until', 'while', 'of', 'at', 'by', 'for', 'with', 'about', 'against', 'between', 'into', 'through', 'during', 'before', 'after', 'above', 'below', 'to', 'from', 'up', 'down', 'in', 'out', 'on', 'off', 'over', 'under', 'again', 'further', 'then', 'once', 'here', 'there', 'when', 'where', 'why', 'how', 'all', 'any', 'both', 'each', 'few', 'more', 'most', 'other', 'some', 'such', 'no', 'nor', 'not', 'only', 'own', 'same', 'so', 'than', 'too', 'very', 's', 't', 'can', 'will', 'just', 'don', \"don't\", 'should', \"should've\", 'now', 'd', 'll', 'm', 'o', 're', 've', 'y', 'ain', 'aren', \"aren't\", 'couldn', \"couldn't\", 'didn', \"didn't\", 'doesn', \"doesn't\", 'hadn', \"hadn't\", 'hasn', \"hasn't\", 'haven', \"haven't\", 'isn', \"isn't\", 'ma', 'mightn', \"mightn't\", 'mustn', \"mustn't\", 'needn', \"needn't\", 'shan', \"shan't\", 'shouldn', \"shouldn't\", 'wasn', \"wasn't\", 'weren', \"weren't\", 'won', \"won't\", 'wouldn', \"wouldn't\"]\n"
          ]
        }
      ]
    },
    {
      "cell_type": "code",
      "source": [
        "data['text'][0]"
      ],
      "metadata": {
        "colab": {
          "base_uri": "https://localhost:8080/"
        },
        "id": "B_JCgRWaq27m",
        "outputId": "c55c1d44-b538-4457-ec38-99934bf0e64d"
      },
      "execution_count": 274,
      "outputs": [
        {
          "output_type": "execute_result",
          "data": {
            "text/plain": [
              "['wesley',\n",
              " 'g',\n",
              " 'iphone',\n",
              " 'hrs',\n",
              " 'tweeting',\n",
              " 'rise',\n",
              " 'austin',\n",
              " 'dead',\n",
              " 'need',\n",
              " 'upgrade',\n",
              " 'plugin',\n",
              " 'stations',\n",
              " 'sxsw']"
            ]
          },
          "metadata": {},
          "execution_count": 274
        }
      ]
    },
    {
      "cell_type": "code",
      "source": [
        "p=nltk.PorterStemmer()\n",
        "for i in range(len(data['text'])):\n",
        "  data['text'].iloc[i]=[p.stem(w) for w in data['text'].iloc[i]]\n",
        "data['text'][277]"
      ],
      "metadata": {
        "colab": {
          "base_uri": "https://localhost:8080/"
        },
        "id": "xsfLGGDhq5MY",
        "outputId": "496b051b-5fed-4bd1-c0d4-6945d588cc61"
      },
      "execution_count": 275,
      "outputs": [
        {
          "output_type": "execute_result",
          "data": {
            "text/plain": [
              "['mention',\n",
              " 'appl',\n",
              " 'open',\n",
              " 'temporari',\n",
              " 'store',\n",
              " 'downtown',\n",
              " 'austin',\n",
              " 'sxsw',\n",
              " 'ipad',\n",
              " 'launchquot',\n",
              " 'oh',\n",
              " 'yay',\n",
              " 'traffic']"
            ]
          },
          "metadata": {},
          "execution_count": 275
        }
      ]
    },
    {
      "cell_type": "code",
      "source": [
        "# lm = nltk.WordNetLemmatizer()\n",
        "# for i in range(len(data['text'])):\n",
        "#   data['text'].iloc[i]=[lm.lemmatize(w) for w in data['text'].iloc[i]]\n",
        "# data['text'][0]\n"
      ],
      "metadata": {
        "id": "8HkurXZN8WOn"
      },
      "execution_count": 276,
      "outputs": []
    },
    {
      "cell_type": "code",
      "source": [
        "data_pos=data[data['sentiments'] == 'Positive emotion'][0:570]\n",
        "data_neg=data[data['sentiments'] == 'Negative emotion'][0:570]\n",
        "data_neutral=data[data['sentiments'] == 'No emotion toward brand or product'][0:570]\n",
        "data_dknow=data[data['sentiments'] == 'I can\\'t tell']\n",
        "print(len(data_pos))\n",
        "print(len(data_neg))\n",
        "print(len(data_neutral))\n",
        "print(len(data_dknow))\n"
      ],
      "metadata": {
        "colab": {
          "base_uri": "https://localhost:8080/"
        },
        "id": "f2CwMc185sdN",
        "outputId": "ef961b44-25ab-40ae-e231-74771fc9677d"
      },
      "execution_count": 277,
      "outputs": [
        {
          "output_type": "stream",
          "name": "stdout",
          "text": [
            "570\n",
            "570\n",
            "570\n",
            "156\n"
          ]
        }
      ]
    },
    {
      "cell_type": "code",
      "source": [
        "Final_data=pd.concat([data_pos, data_neg,data_neutral])"
      ],
      "metadata": {
        "id": "Eq1D3d1B3GVI"
      },
      "execution_count": 278,
      "outputs": []
    },
    {
      "cell_type": "code",
      "source": [
        "Final_data.head()"
      ],
      "metadata": {
        "colab": {
          "base_uri": "https://localhost:8080/",
          "height": 204
        },
        "id": "AtQlusPx77cW",
        "outputId": "f59aeb0a-9869-4986-d9fc-77b8f3404c5e"
      },
      "execution_count": 279,
      "outputs": [
        {
          "output_type": "execute_result",
          "data": {
            "text/html": [
              "\n",
              "  <div id=\"df-22bd4d36-926a-4e55-98bc-be3c8662d65a\">\n",
              "    <div class=\"colab-df-container\">\n",
              "      <div>\n",
              "<style scoped>\n",
              "    .dataframe tbody tr th:only-of-type {\n",
              "        vertical-align: middle;\n",
              "    }\n",
              "\n",
              "    .dataframe tbody tr th {\n",
              "        vertical-align: top;\n",
              "    }\n",
              "\n",
              "    .dataframe thead th {\n",
              "        text-align: right;\n",
              "    }\n",
              "</style>\n",
              "<table border=\"1\" class=\"dataframe\">\n",
              "  <thead>\n",
              "    <tr style=\"text-align: right;\">\n",
              "      <th></th>\n",
              "      <th>text</th>\n",
              "      <th>sentiments</th>\n",
              "    </tr>\n",
              "  </thead>\n",
              "  <tbody>\n",
              "    <tr>\n",
              "      <th>1</th>\n",
              "      <td>[jessede, know, fludapp, awesom, ipad, iphon, ...</td>\n",
              "      <td>Positive emotion</td>\n",
              "    </tr>\n",
              "    <tr>\n",
              "      <th>2</th>\n",
              "      <td>[swonderlin, wait, ipad, also, sale, sxsw]</td>\n",
              "      <td>Positive emotion</td>\n",
              "    </tr>\n",
              "    <tr>\n",
              "      <th>4</th>\n",
              "      <td>[sxtxstate, great, stuff, fri, sxsw, marissa, ...</td>\n",
              "      <td>Positive emotion</td>\n",
              "    </tr>\n",
              "    <tr>\n",
              "      <th>7</th>\n",
              "      <td>[sxsw, start, ctia, around, corner, googleio, ...</td>\n",
              "      <td>Positive emotion</td>\n",
              "    </tr>\n",
              "    <tr>\n",
              "      <th>8</th>\n",
              "      <td>[beauti, smart, simpl, idea, rt, madebymani, t...</td>\n",
              "      <td>Positive emotion</td>\n",
              "    </tr>\n",
              "  </tbody>\n",
              "</table>\n",
              "</div>\n",
              "      <button class=\"colab-df-convert\" onclick=\"convertToInteractive('df-22bd4d36-926a-4e55-98bc-be3c8662d65a')\"\n",
              "              title=\"Convert this dataframe to an interactive table.\"\n",
              "              style=\"display:none;\">\n",
              "        \n",
              "  <svg xmlns=\"http://www.w3.org/2000/svg\" height=\"24px\"viewBox=\"0 0 24 24\"\n",
              "       width=\"24px\">\n",
              "    <path d=\"M0 0h24v24H0V0z\" fill=\"none\"/>\n",
              "    <path d=\"M18.56 5.44l.94 2.06.94-2.06 2.06-.94-2.06-.94-.94-2.06-.94 2.06-2.06.94zm-11 1L8.5 8.5l.94-2.06 2.06-.94-2.06-.94L8.5 2.5l-.94 2.06-2.06.94zm10 10l.94 2.06.94-2.06 2.06-.94-2.06-.94-.94-2.06-.94 2.06-2.06.94z\"/><path d=\"M17.41 7.96l-1.37-1.37c-.4-.4-.92-.59-1.43-.59-.52 0-1.04.2-1.43.59L10.3 9.45l-7.72 7.72c-.78.78-.78 2.05 0 2.83L4 21.41c.39.39.9.59 1.41.59.51 0 1.02-.2 1.41-.59l7.78-7.78 2.81-2.81c.8-.78.8-2.07 0-2.86zM5.41 20L4 18.59l7.72-7.72 1.47 1.35L5.41 20z\"/>\n",
              "  </svg>\n",
              "      </button>\n",
              "      \n",
              "  <style>\n",
              "    .colab-df-container {\n",
              "      display:flex;\n",
              "      flex-wrap:wrap;\n",
              "      gap: 12px;\n",
              "    }\n",
              "\n",
              "    .colab-df-convert {\n",
              "      background-color: #E8F0FE;\n",
              "      border: none;\n",
              "      border-radius: 50%;\n",
              "      cursor: pointer;\n",
              "      display: none;\n",
              "      fill: #1967D2;\n",
              "      height: 32px;\n",
              "      padding: 0 0 0 0;\n",
              "      width: 32px;\n",
              "    }\n",
              "\n",
              "    .colab-df-convert:hover {\n",
              "      background-color: #E2EBFA;\n",
              "      box-shadow: 0px 1px 2px rgba(60, 64, 67, 0.3), 0px 1px 3px 1px rgba(60, 64, 67, 0.15);\n",
              "      fill: #174EA6;\n",
              "    }\n",
              "\n",
              "    [theme=dark] .colab-df-convert {\n",
              "      background-color: #3B4455;\n",
              "      fill: #D2E3FC;\n",
              "    }\n",
              "\n",
              "    [theme=dark] .colab-df-convert:hover {\n",
              "      background-color: #434B5C;\n",
              "      box-shadow: 0px 1px 3px 1px rgba(0, 0, 0, 0.15);\n",
              "      filter: drop-shadow(0px 1px 2px rgba(0, 0, 0, 0.3));\n",
              "      fill: #FFFFFF;\n",
              "    }\n",
              "  </style>\n",
              "\n",
              "      <script>\n",
              "        const buttonEl =\n",
              "          document.querySelector('#df-22bd4d36-926a-4e55-98bc-be3c8662d65a button.colab-df-convert');\n",
              "        buttonEl.style.display =\n",
              "          google.colab.kernel.accessAllowed ? 'block' : 'none';\n",
              "\n",
              "        async function convertToInteractive(key) {\n",
              "          const element = document.querySelector('#df-22bd4d36-926a-4e55-98bc-be3c8662d65a');\n",
              "          const dataTable =\n",
              "            await google.colab.kernel.invokeFunction('convertToInteractive',\n",
              "                                                     [key], {});\n",
              "          if (!dataTable) return;\n",
              "\n",
              "          const docLinkHtml = 'Like what you see? Visit the ' +\n",
              "            '<a target=\"_blank\" href=https://colab.research.google.com/notebooks/data_table.ipynb>data table notebook</a>'\n",
              "            + ' to learn more about interactive tables.';\n",
              "          element.innerHTML = '';\n",
              "          dataTable['output_type'] = 'display_data';\n",
              "          await google.colab.output.renderOutput(dataTable, element);\n",
              "          const docLink = document.createElement('div');\n",
              "          docLink.innerHTML = docLinkHtml;\n",
              "          element.appendChild(docLink);\n",
              "        }\n",
              "      </script>\n",
              "    </div>\n",
              "  </div>\n",
              "  "
            ],
            "text/plain": [
              "                                                text        sentiments\n",
              "1  [jessede, know, fludapp, awesom, ipad, iphon, ...  Positive emotion\n",
              "2         [swonderlin, wait, ipad, also, sale, sxsw]  Positive emotion\n",
              "4  [sxtxstate, great, stuff, fri, sxsw, marissa, ...  Positive emotion\n",
              "7  [sxsw, start, ctia, around, corner, googleio, ...  Positive emotion\n",
              "8  [beauti, smart, simpl, idea, rt, madebymani, t...  Positive emotion"
            ]
          },
          "metadata": {},
          "execution_count": 279
        }
      ]
    },
    {
      "cell_type": "code",
      "source": [
        "def convertstring(x):\n",
        "  return \" \".join(x)\n",
        "Final_data['text']=Final_data['text'].apply(lambda x:convertstring(x))"
      ],
      "metadata": {
        "id": "p6CITj-x865P"
      },
      "execution_count": 280,
      "outputs": []
    },
    {
      "cell_type": "code",
      "source": [
        "X=Final_data.text\n",
        "Y=Final_data.sentiments\n",
        "X"
      ],
      "metadata": {
        "colab": {
          "base_uri": "https://localhost:8080/"
        },
        "id": "Jq9VVbfR5WEz",
        "outputId": "bf781391-db46-4b1f-b132-bba9915c61b0"
      },
      "execution_count": 281,
      "outputs": [
        {
          "output_type": "execute_result",
          "data": {
            "text/plain": [
              "1      jessede know fludapp awesom ipad iphon app lik...\n",
              "2                    swonderlin wait ipad also sale sxsw\n",
              "4      sxtxstate great stuff fri sxsw marissa mayer g...\n",
              "7      sxsw start ctia around corner googleio hop ski...\n",
              "8      beauti smart simpl idea rt madebymani thenextw...\n",
              "                             ...                        \n",
              "993    sxsw two parti awesom journal npr googl one go pb\n",
              "996    watch peopl interact inform differ bigger smal...\n",
              "997    hey sxsw peopl surviv tip great vegitarian veg...\n",
              "998    sxsw pepsi max market street team shown popup ...\n",
              "999    new post per rumor googl may preview big socia...\n",
              "Name: text, Length: 1710, dtype: object"
            ]
          },
          "metadata": {},
          "execution_count": 281
        }
      ]
    },
    {
      "cell_type": "code",
      "source": [
        "x_train,x_test,y_train,y_test = train_test_split(X,Y,test_size=0.05,random_state =26105111)"
      ],
      "metadata": {
        "id": "qf95j9wR5JX8"
      },
      "execution_count": 282,
      "outputs": []
    },
    {
      "cell_type": "code",
      "source": [
        "x_train"
      ],
      "metadata": {
        "colab": {
          "base_uri": "https://localhost:8080/"
        },
        "id": "6SN8oFqJAecy",
        "outputId": "d23adf03-24ed-4ffd-839f-be734fe65df7"
      },
      "execution_count": 283,
      "outputs": [
        {
          "output_type": "execute_result",
          "data": {
            "text/plain": [
              "873     come find mention booth mention ipad case left...\n",
              "32      attn sxsw frine mention regist gdgtlive see co...\n",
              "5568    rt mention best thing heard weekend sxsw quot ...\n",
              "4541    anyon address yeasay concert tonight googl map...\n",
              "385     googl calendar saturday night giant overlap sx...\n",
              "                              ...                        \n",
              "460     even begin appl win sxsw link via mention mention\n",
              "207     got busi week ahead new book googl app avail a...\n",
              "3734    play w window phone sxsw anim better iphoneamp...\n",
              "1188    top thing love sxsw far link outbrain ipad groupm\n",
              "134     samsung soni follow appl hp lead mention link ...\n",
              "Name: text, Length: 1624, dtype: object"
            ]
          },
          "metadata": {},
          "execution_count": 283
        }
      ]
    },
    {
      "cell_type": "code",
      "source": [
        "vectoriser = TfidfVectorizer(ngram_range=(1,3), max_features=500000)\n",
        "vectoriser.fit(x_train)\n",
        "print('No. of feature_words: ', len(vectoriser.get_feature_names()))"
      ],
      "metadata": {
        "colab": {
          "base_uri": "https://localhost:8080/"
        },
        "id": "GhVvvOvT-I1P",
        "outputId": "3885770c-f619-460f-ce4e-902a9d2e6859"
      },
      "execution_count": 284,
      "outputs": [
        {
          "output_type": "stream",
          "name": "stdout",
          "text": [
            "No. of feature_words:  25238\n"
          ]
        },
        {
          "output_type": "stream",
          "name": "stderr",
          "text": [
            "/usr/local/lib/python3.7/dist-packages/sklearn/utils/deprecation.py:87: FutureWarning: Function get_feature_names is deprecated; get_feature_names is deprecated in 1.0 and will be removed in 1.2. Please use get_feature_names_out instead.\n",
            "  warnings.warn(msg, category=FutureWarning)\n"
          ]
        }
      ]
    },
    {
      "cell_type": "code",
      "source": [
        "x_train = vectoriser.transform(x_train)\n",
        "x_test  = vectoriser.transform(x_test)"
      ],
      "metadata": {
        "id": "qHIk-Oq-_zfl"
      },
      "execution_count": 285,
      "outputs": []
    },
    {
      "cell_type": "code",
      "source": [
        "def model_Evaluate(model):\n",
        "  # Predict values for Test dataset\n",
        "  y_pred = model.predict(x_test)\n",
        "  # # Print the evaluation metrics for the dataset.\n",
        "  print(classification_report(y_test, y_pred))\n",
        "  # # Compute and plot the Confusion matrix\n",
        "  # cf_matrix = confusion_matrix(y_test, y_pred)\n",
        "  # categories = ['Negative','Positive','Neutral']\n",
        "  # group_names = ['True Neg','False Pos', 'False Neg','True Pos']\n",
        "  # group_percentages = ['{0:.2%}'.format(value) for value in cf_matrix.flatten() / np.sum(cf_matrix)]\n",
        "  # labels = [f'{v1}n{v2}' for v1, v2 in zip(group_names,group_percentages)]\n",
        "  # labels = np.asarray(labels).reshape(2,2)\n",
        "  # sns.heatmap(cf_matrix, annot = labels, cmap = 'Blues',fmt = '',\n",
        "  # xticklabels = categories, yticklabels = categories)\n",
        "  # plt.xlabel(\"Predicted values\", fontdict = {'size':14}, labelpad = 10)\n",
        "  # plt.ylabel(\"Actual values\" , fontdict = {'size':14}, labelpad = 10)\n",
        "  # plt.title (\"Confusion Matrix\", fontdict = {'size':18}, pad = 20)"
      ],
      "metadata": {
        "id": "vYlu5JgDB5gY"
      },
      "execution_count": 286,
      "outputs": []
    },
    {
      "cell_type": "code",
      "source": [
        "BNBmodel = BernoulliNB()\n",
        "BNBmodel.fit(x_train, y_train)\n",
        "model_Evaluate(BNBmodel)\n",
        "# y_pred1 = BNBmodel.predict(X_test)"
      ],
      "metadata": {
        "colab": {
          "base_uri": "https://localhost:8080/"
        },
        "id": "_zvLFTuzCJVi",
        "outputId": "6c3c6f3e-cb93-41e0-8073-ae2e2aef2692"
      },
      "execution_count": 287,
      "outputs": [
        {
          "output_type": "stream",
          "name": "stdout",
          "text": [
            "                                    precision    recall  f1-score   support\n",
            "\n",
            "                  Negative emotion       0.86      0.66      0.75        38\n",
            "No emotion toward brand or product       0.55      0.46      0.50        24\n",
            "                  Positive emotion       0.46      0.71      0.56        24\n",
            "\n",
            "                          accuracy                           0.62        86\n",
            "                         macro avg       0.62      0.61      0.60        86\n",
            "                      weighted avg       0.66      0.62      0.62        86\n",
            "\n"
          ]
        }
      ]
    },
    {
      "cell_type": "code",
      "source": [
        ""
      ],
      "metadata": {
        "id": "fv7r7ga8Cm0i"
      },
      "execution_count": 287,
      "outputs": []
    }
  ]
}